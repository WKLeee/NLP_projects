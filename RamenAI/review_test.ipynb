{
 "cells": [
  {
   "cell_type": "code",
   "execution_count": 1,
   "metadata": {},
   "outputs": [
    {
     "name": "stderr",
     "output_type": "stream",
     "text": [
      "Using TensorFlow backend.\n"
     ]
    }
   ],
   "source": [
    "import matplotlib\n",
    "import matplotlib.pyplot as plt\n",
    "import numpy as np\n",
    "from keras.utils import to_categorical\n",
    "from keras import models\n",
    "from keras import layers"
   ]
  },
  {
   "cell_type": "code",
   "execution_count": 3,
   "metadata": {},
   "outputs": [],
   "source": [
    "from keras.datasets import reuters\n",
    "np_load_old = np.load\n",
    "np.load = lambda *a,**k: np_load_old(*a, allow_pickle=True, **k)\n",
    "(train_data, train_labels), (test_data, test_labels) = reuters.load_data(num_words=10000)\n",
    "np.load = np_load_old"
   ]
  },
  {
   "cell_type": "code",
   "execution_count": 6,
   "metadata": {},
   "outputs": [
    {
     "name": "stdout",
     "output_type": "stream",
     "text": [
      "Number of unique words: 9982\n",
      "Average Review Length: 145.5398574927633\n",
      "Standard Deviation: 146.0\n"
     ]
    }
   ],
   "source": [
    "print(\"Number of unique words:\", len(np.unique(np.hstack(train_data))))\n",
    "length = [len(i) for i in train_data]\n",
    "print(\"Average Review Length:\", np.mean(length))\n",
    "print(\"Standard Deviation:\", round(np.std(length)))"
   ]
  },
  {
   "cell_type": "code",
   "execution_count": 12,
   "metadata": {},
   "outputs": [
    {
     "name": "stdout",
     "output_type": "stream",
     "text": [
      "Label: 3\n"
     ]
    }
   ],
   "source": [
    "print(\"Label:\", train_labels[0])"
   ]
  },
  {
   "cell_type": "code",
   "execution_count": 13,
   "metadata": {},
   "outputs": [
    {
     "name": "stdout",
     "output_type": "stream",
     "text": [
      "[1, 2, 2, 8, 43, 10, 447, 5, 25, 207, 270, 5, 3095, 111, 16, 369, 186, 90, 67, 7, 89, 5, 19, 102, 6, 19, 124, 15, 90, 67, 84, 22, 482, 26, 7, 48, 4, 49, 8, 864, 39, 209, 154, 6, 151, 6, 83, 11, 15, 22, 155, 11, 15, 7, 48, 9, 4579, 1005, 504, 6, 258, 6, 272, 11, 15, 22, 134, 44, 11, 15, 16, 8, 197, 1245, 90, 67, 52, 29, 209, 30, 32, 132, 6, 109, 15, 17, 12]\n"
     ]
    }
   ],
   "source": [
    "print(train_data[0])"
   ]
  },
  {
   "cell_type": "code",
   "execution_count": 27,
   "metadata": {},
   "outputs": [
    {
     "name": "stdout",
     "output_type": "stream",
     "text": [
      "? generale de banque sa lt ? br and lt heller overseas corp of chicago have each taken 50 pct stakes in ? company sa ? factors generale de banque said in a statement it gave no financial details of the transaction sa ? ? turnover in 1986 was 17 5 billion belgian francs reuter 3\n"
     ]
    }
   ],
   "source": [
    "word_index = reuters.get_word_index()\n",
    "reverse_word_index = dict([(value, key) for (key, value) in word_index.items()])\n",
    "decoded_review = \" \".join([reverse_word_index.get(i-3,\"?\") for i in train_data[1]])\n",
    "print(decoded_review)"
   ]
  },
  {
   "cell_type": "code",
   "execution_count": 30,
   "metadata": {},
   "outputs": [
    {
     "name": "stdout",
     "output_type": "stream",
     "text": [
      "[[0. 1. 1. ... 0. 0. 0.]\n",
      " [0. 1. 1. ... 0. 0. 0.]\n",
      " [0. 1. 1. ... 0. 0. 0.]\n",
      " ...\n",
      " [0. 1. 1. ... 0. 0. 0.]\n",
      " [0. 1. 1. ... 0. 0. 0.]\n",
      " [0. 1. 1. ... 0. 0. 0.]]\n"
     ]
    }
   ],
   "source": [
    "def vectorize_sequences(sequences, dimension=10000):\n",
    "    results = np.zeros((len(sequences),dimension))\n",
    "    for i, sequence in enumerate(sequences):\n",
    "        results[i, sequence] = 1\n",
    "    return results\n",
    "\n",
    "x_train = vectorize_sequences(train_data)\n",
    "x_test = vectorize_sequences(test_data)\n",
    "print(x_train)"
   ]
  },
  {
   "cell_type": "code",
   "execution_count": 32,
   "metadata": {},
   "outputs": [
    {
     "name": "stdout",
     "output_type": "stream",
     "text": [
      "[ 3.  4.  3. ... 25.  3. 25.]\n"
     ]
    }
   ],
   "source": [
    "y_train = np.array(train_labels).astype(\"float32\")\n",
    "y_test = np.array(test_labels).astype(\"float32\")"
   ]
  },
  {
   "cell_type": "code",
   "execution_count": 34,
   "metadata": {},
   "outputs": [
    {
     "name": "stdout",
     "output_type": "stream",
     "text": [
      "[[0. 0. 0. ... 0. 0. 0.]\n",
      " [0. 0. 0. ... 0. 0. 0.]\n",
      " [0. 0. 0. ... 0. 0. 0.]\n",
      " ...\n",
      " [0. 0. 0. ... 0. 0. 0.]\n",
      " [0. 0. 0. ... 0. 0. 0.]\n",
      " [0. 0. 0. ... 0. 0. 0.]]\n"
     ]
    }
   ],
   "source": [
    "y_train = to_categorical(train_labels)\n",
    "y_test = to_categorical(test_labels)\n",
    "print(y_train)"
   ]
  },
  {
   "cell_type": "code",
   "execution_count": 35,
   "metadata": {},
   "outputs": [
    {
     "name": "stdout",
     "output_type": "stream",
     "text": [
      "WARNING:tensorflow:From C:\\Users\\Wyatt\\Anaconda3\\envs\\my\\lib\\site-packages\\tensorflow\\python\\framework\\op_def_library.py:263: colocate_with (from tensorflow.python.framework.ops) is deprecated and will be removed in a future version.\n",
      "Instructions for updating:\n",
      "Colocations handled automatically by placer.\n",
      "WARNING:tensorflow:From C:\\Users\\Wyatt\\Anaconda3\\envs\\my\\lib\\site-packages\\keras\\backend\\tensorflow_backend.py:3445: calling dropout (from tensorflow.python.ops.nn_ops) with keep_prob is deprecated and will be removed in a future version.\n",
      "Instructions for updating:\n",
      "Please use `rate` instead of `keep_prob`. Rate should be set to `rate = 1 - keep_prob`.\n",
      "_________________________________________________________________\n",
      "Layer (type)                 Output Shape              Param #   \n",
      "=================================================================\n",
      "dense_1 (Dense)              (None, 16)                160016    \n",
      "_________________________________________________________________\n",
      "dropout_1 (Dropout)          (None, 16)                0         \n",
      "_________________________________________________________________\n",
      "dense_2 (Dense)              (None, 55)                935       \n",
      "_________________________________________________________________\n",
      "dropout_2 (Dropout)          (None, 55)                0         \n",
      "_________________________________________________________________\n",
      "dense_3 (Dense)              (None, 85)                4760      \n",
      "_________________________________________________________________\n",
      "dense_4 (Dense)              (None, 85)                7310      \n",
      "_________________________________________________________________\n",
      "dense_5 (Dense)              (None, 85)                7310      \n",
      "_________________________________________________________________\n",
      "dropout_3 (Dropout)          (None, 85)                0         \n",
      "_________________________________________________________________\n",
      "dense_6 (Dense)              (None, 55)                4730      \n",
      "_________________________________________________________________\n",
      "dropout_4 (Dropout)          (None, 55)                0         \n",
      "_________________________________________________________________\n",
      "dense_7 (Dense)              (None, 16)                896       \n",
      "_________________________________________________________________\n",
      "dense_8 (Dense)              (None, 46)                782       \n",
      "=================================================================\n",
      "Total params: 186,739\n",
      "Trainable params: 186,739\n",
      "Non-trainable params: 0\n",
      "_________________________________________________________________\n"
     ]
    }
   ],
   "source": [
    "\n",
    "model = models.Sequential()\n",
    "\n",
    "# Input-Layer\n",
    "model.add(layers.Dense(16,activation=\"relu\",input_shape=(10000,)))\n",
    "\n",
    "# Hidden-Layers\n",
    "model.add(layers.Dropout(0.2, noise_shape=None, seed=None))\n",
    "model.add(layers.Dense(55,activation=\"relu\"))\n",
    "model.add(layers.Dropout(0.4, noise_shape=None, seed=None))\n",
    "model.add(layers.Dense(85,activation=\"relu\"))\n",
    "model.add(layers.Dense(85,activation=\"relu\"))\n",
    "model.add(layers.Dense(85,activation=\"relu\"))\n",
    "model.add(layers.Dropout(0.4, noise_shape=None, seed=None))\n",
    "model.add(layers.Dense(55,activation=\"relu\"))\n",
    "model.add(layers.Dropout(0.2, noise_shape=None, seed=None))\n",
    "model.add(layers.Dense(16,activation=\"relu\"))\n",
    "\n",
    "# Output-Layer\n",
    "model.add(layers.Dense(46, activation=\"softmax\"))\n",
    "\n",
    "model.summary()"
   ]
  },
  {
   "cell_type": "code",
   "execution_count": 36,
   "metadata": {},
   "outputs": [],
   "source": [
    "model.compile(\n",
    "    optimizer = 'rmsprop',\n",
    "    loss = 'binary_crossentropy',\n",
    "    metrics = ['accuracy']\n",
    ")"
   ]
  },
  {
   "cell_type": "code",
   "execution_count": 40,
   "metadata": {},
   "outputs": [
    {
     "name": "stdout",
     "output_type": "stream",
     "text": [
      "[[0. 1. 1. ... 0. 0. 0.]\n",
      " [0. 1. 0. ... 0. 0. 0.]\n",
      " [0. 1. 1. ... 0. 0. 0.]\n",
      " ...\n",
      " [0. 1. 1. ... 0. 0. 0.]\n",
      " [0. 1. 1. ... 0. 0. 0.]\n",
      " [0. 1. 1. ... 0. 0. 0.]]\n"
     ]
    }
   ],
   "source": [
    "x_val = x_train[:4000]\n",
    "partial_x_train = x_train[4000:]\n",
    "y_val = y_train[:4000]\n",
    "partial_y_train = y_train[4000:]\n",
    "print(partial_x_train)"
   ]
  },
  {
   "cell_type": "code",
   "execution_count": 51,
   "metadata": {},
   "outputs": [
    {
     "name": "stdout",
     "output_type": "stream",
     "text": [
      "Train on 4982 samples, validate on 4000 samples\n",
      "Epoch 1/10\n",
      "4982/4982 [==============================] - 1s 300us/step - loss: 0.0339 - acc: 0.9902 - val_loss: 0.0582 - val_acc: 0.9882\n",
      "Epoch 2/10\n",
      "4982/4982 [==============================] - 1s 299us/step - loss: 0.0334 - acc: 0.9905 - val_loss: 0.0583 - val_acc: 0.9884\n",
      "Epoch 3/10\n",
      "4982/4982 [==============================] - 1s 301us/step - loss: 0.0331 - acc: 0.9906 - val_loss: 0.0590 - val_acc: 0.9884\n",
      "Epoch 4/10\n",
      "4982/4982 [==============================] - 1s 297us/step - loss: 0.0326 - acc: 0.9909 - val_loss: 0.0608 - val_acc: 0.9886\n",
      "Epoch 5/10\n",
      "4982/4982 [==============================] - 1s 301us/step - loss: 0.0324 - acc: 0.9912 - val_loss: 0.0600 - val_acc: 0.9887\n",
      "Epoch 6/10\n",
      "4982/4982 [==============================] - 2s 306us/step - loss: 0.0315 - acc: 0.9914 - val_loss: 0.0612 - val_acc: 0.9888\n",
      "Epoch 7/10\n",
      "4982/4982 [==============================] - 2s 304us/step - loss: 0.0308 - acc: 0.9917 - val_loss: 0.0607 - val_acc: 0.9889\n",
      "Epoch 8/10\n",
      "4982/4982 [==============================] - 2s 307us/step - loss: 0.0306 - acc: 0.9918 - val_loss: 0.0620 - val_acc: 0.9889\n",
      "Epoch 9/10\n",
      "4982/4982 [==============================] - 2s 308us/step - loss: 0.0304 - acc: 0.9918 - val_loss: 0.0629 - val_acc: 0.9890\n",
      "Epoch 10/10\n",
      "4982/4982 [==============================] - 2s 316us/step - loss: 0.0303 - acc: 0.9920 - val_loss: 0.0611 - val_acc: 0.9891\n"
     ]
    }
   ],
   "source": [
    "history = model.fit(\n",
    "partial_x_train, partial_y_train,\n",
    "epochs=10,\n",
    "batch_size=512,\n",
    "validation_data=(x_val,y_val)\n",
    ")"
   ]
  },
  {
   "cell_type": "code",
   "execution_count": 52,
   "metadata": {},
   "outputs": [
    {
     "data": {
      "image/png": "[encoded data removed]",
      "text/plain": [
       "<Figure size 432x288 with 1 Axes>"
      ]
     },
     "metadata": {
      "needs_background": "light"
     },
     "output_type": "display_data"
    }
   ],
   "source": [
    "history_dict = history.history\n",
    "loss_values = history_dict[\"loss\"]\n",
    "\n",
    "plt.clf()\n",
    "\n",
    "acc_values = history_dict[\"acc\"]\n",
    "val_acc_values = history_dict[\"val_acc\"]\n",
    "\n",
    "epochs = range(1, len(loss_values) + 1)\n",
    "\n",
    "plt.plot(epochs, acc_values, label = \"training accuracy\")\n",
    "plt.plot(epochs, val_acc_values, label =\"Validation accuracy\")\n",
    "plt.legend()\n",
    "plt.show()"
   ]
  },
  {
   "cell_type": "code",
   "execution_count": 50,
   "metadata": {},
   "outputs": [
    {
     "name": "stdout",
     "output_type": "stream",
     "text": [
      "Validation Accuracy: 0.9882503665924073\n"
     ]
    }
   ],
   "source": [
    "print(\"Validation Accuracy:\", np.mean(val_acc_values))"
   ]
  },
  {
   "cell_type": "code",
   "execution_count": null,
   "metadata": {},
   "outputs": [],
   "source": []
  }
 ],
 "metadata": {
  "kernelspec": {
   "display_name": "Python 3",
   "language": "python",
   "name": "python3"
  },
  "language_info": {
   "codemirror_mode": {
    "name": "ipython",
    "version": 3
   },
   "file_extension": ".py",
   "mimetype": "text/x-python",
   "name": "python",
   "nbconvert_exporter": "python",
   "pygments_lexer": "ipython3",
   "version": "3.6.8"
  }
 },
 "nbformat": 4,
 "nbformat_minor": 2
}
