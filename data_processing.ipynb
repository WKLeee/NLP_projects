{
 "cells": [
  {
   "cell_type": "code",
   "execution_count": 72,
   "metadata": {},
   "outputs": [],
   "source": [
    "import json\n",
    "import nltk\n",
    "from nltk.tokenize import word_tokenize"
   ]
  },
  {
   "cell_type": "code",
   "execution_count": 66,
   "metadata": {},
   "outputs": [],
   "source": [
    "def load_json(path):\n",
    "    json_file = open(path,'r')\n",
    "    review_lines = json_file.readlines()\n",
    "    json_file.close()\n",
    "    \n",
    "    texts = []\n",
    "    stars = [] \n",
    "    print('total reviews:', len(review_lines))\n",
    "    for review in review_lines:\n",
    "        data = json.loads(review)\n",
    "        texts.append(data['text'])\n",
    "        stars.append(data['stars'])\n",
    "        \n",
    "    return texts, stars"
   ]
  },
  {
   "cell_type": "code",
   "execution_count": 67,
   "metadata": {},
   "outputs": [
    {
     "name": "stdout",
     "output_type": "stream",
     "text": [
      "total reviews: 1281\n"
     ]
    }
   ],
   "source": [
    "texts, stars = load_json('./splited_reviews_by_star/mini_reviews_5.json')"
   ]
  },
  {
   "cell_type": "code",
   "execution_count": 68,
   "metadata": {},
   "outputs": [],
   "source": [
    "def stemming(texts):\n",
    "    print(\"total texts:\",len(texts))"
   ]
  },
  {
   "cell_type": "code",
   "execution_count": 69,
   "metadata": {},
   "outputs": [
    {
     "name": "stdout",
     "output_type": "stream",
     "text": [
      "total texts: 1281\n"
     ]
    }
   ],
   "source": [
    "stemming(texts)"
   ]
  },
  {
   "cell_type": "code",
   "execution_count": 73,
   "metadata": {},
   "outputs": [
    {
     "data": {
      "text/plain": [
       "['Went',\n",
       " 'in',\n",
       " 'for',\n",
       " 'a',\n",
       " 'lunch',\n",
       " '.',\n",
       " 'Steak',\n",
       " 'sandwich',\n",
       " 'was',\n",
       " 'delicious',\n",
       " ',',\n",
       " 'and',\n",
       " 'the',\n",
       " 'Caesar',\n",
       " 'salad',\n",
       " 'had',\n",
       " 'an',\n",
       " 'absolutely',\n",
       " 'delicious',\n",
       " 'dressing',\n",
       " ',',\n",
       " 'with',\n",
       " 'a',\n",
       " 'perfect',\n",
       " 'amount',\n",
       " 'of',\n",
       " 'dressing',\n",
       " ',',\n",
       " 'and',\n",
       " 'distributed',\n",
       " 'perfectly',\n",
       " 'across',\n",
       " 'each',\n",
       " 'leaf',\n",
       " '.',\n",
       " 'I',\n",
       " 'know',\n",
       " 'I',\n",
       " \"'m\",\n",
       " 'going',\n",
       " 'on',\n",
       " 'about',\n",
       " 'the',\n",
       " 'salad',\n",
       " '...',\n",
       " 'But',\n",
       " 'it',\n",
       " 'was',\n",
       " 'perfect',\n",
       " '.',\n",
       " 'Drink',\n",
       " 'prices',\n",
       " 'were',\n",
       " 'pretty',\n",
       " 'good',\n",
       " '.',\n",
       " 'The',\n",
       " 'Server',\n",
       " ',',\n",
       " 'Dawn',\n",
       " ',',\n",
       " 'was',\n",
       " 'friendly',\n",
       " 'and',\n",
       " 'accommodating',\n",
       " '.',\n",
       " 'Very',\n",
       " 'happy',\n",
       " 'with',\n",
       " 'her',\n",
       " '.',\n",
       " 'In',\n",
       " 'summation',\n",
       " ',',\n",
       " 'a',\n",
       " 'great',\n",
       " 'pub',\n",
       " 'experience',\n",
       " '.',\n",
       " 'Would',\n",
       " 'go',\n",
       " 'again',\n",
       " '!']"
      ]
     },
     "execution_count": 73,
     "metadata": {},
     "output_type": "execute_result"
    }
   ],
   "source": [
    "word_tokenize(texts[0])"
   ]
  },
  {
   "cell_type": "code",
   "execution_count": 74,
   "metadata": {},
   "outputs": [
    {
     "data": {
      "text/plain": [
       "\"Went in for a lunch. Steak sandwich was delicious, and the Caesar salad had an absolutely delicious dressing, with a perfect amount of dressing, and distributed perfectly across each leaf. I know I'm going on about the salad ... But it was perfect.\\n\\nDrink prices were pretty good.\\n\\nThe Server, Dawn, was friendly and accommodating. Very happy with her.\\n\\nIn summation, a great pub experience. Would go again!\""
      ]
     },
     "execution_count": 74,
     "metadata": {},
     "output_type": "execute_result"
    }
   ],
   "source": [
    "texts[0]"
   ]
  },
  {
   "cell_type": "code",
   "execution_count": null,
   "metadata": {},
   "outputs": [],
   "source": []
  }
 ],
 "metadata": {
  "kernelspec": {
   "display_name": "Python 3",
   "language": "python",
   "name": "python3"
  },
  "language_info": {
   "codemirror_mode": {
    "name": "ipython",
    "version": 3
   },
   "file_extension": ".py",
   "mimetype": "text/x-python",
   "name": "python",
   "nbconvert_exporter": "python",
   "pygments_lexer": "ipython3",
   "version": "3.6.10"
  }
 },
 "nbformat": 4,
 "nbformat_minor": 4
}
